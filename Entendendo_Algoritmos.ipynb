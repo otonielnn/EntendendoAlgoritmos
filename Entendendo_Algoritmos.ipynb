{
  "nbformat": 4,
  "nbformat_minor": 0,
  "metadata": {
    "colab": {
      "provenance": []
    },
    "kernelspec": {
      "name": "python3",
      "display_name": "Python 3"
    },
    "language_info": {
      "name": "python"
    }
  },
  "cells": [
    {
      "cell_type": "markdown",
      "source": [
        "# Documentando Estudos do livro Entendendo Algoritmos (Aditya Y. Bhargava)\n",
        "\n",
        "## Capítulo 1 - Introdução a Algoritmos\n",
        "\n",
        "### Algoritmo de Busca binária"
      ],
      "metadata": {
        "id": "tNHhgcDPCXW0"
      }
    },
    {
      "cell_type": "code",
      "execution_count": null,
      "metadata": {
        "id": "rofbE9KpCDcQ",
        "colab": {
          "base_uri": "https://localhost:8080/"
        },
        "outputId": "0b290d49-de30-48dc-ee48-0a9505d1826a"
      },
      "outputs": [
        {
          "output_type": "stream",
          "name": "stdout",
          "text": [
            "1\n",
            "None\n"
          ]
        }
      ],
      "source": [
        "def pesquisa_binaria(lista, item):\n",
        "  baixo = 0\n",
        "  alto = len(lista) - 1\n",
        "\n",
        "  while baixo <= alto:\n",
        "    meio = int((baixo + alto) / 2)\n",
        "    chute = lista[meio]\n",
        "    if chute == item:\n",
        "      return meio\n",
        "    if chute > item:\n",
        "      alto = meio - 1\n",
        "    else:\n",
        "      baixo = meio + 1\n",
        "  return None\n",
        "\n",
        "minha_lista = [1, 3 , 5, 7, 9]\n",
        "\n",
        "print(pesquisa_binaria(minha_lista, 3)) # retorna 1\n",
        "print(pesquisa_binaria(minha_lista, -1)) # retorna None"
      ]
    },
    {
      "cell_type": "markdown",
      "source": [
        "## Exercícios Busca Binária\n",
        "\n",
        "- Suponha que você tenha uma lista com 128 nomes e esteja fazendo uma\n",
        "pesquisa binária. Qual seria o número máximo de etapas que você levaria\n",
        "para encontrar o nome desejado?\n",
        "\n",
        "> Log(2) 128 = 7\n",
        "\n",
        "- Suponha que você duplique o tamanho da lista. Qual seria o número\n",
        "máximo de etapas agora?\n",
        "\n",
        "> Log(2) 256 = 8\n",
        "\n",
        "## Exercícios Big O\n",
        "\n",
        "-  Você tem um nome e deseja encontrar o número de telefone para esse\n",
        "nome em uma agenda telefônica.\n",
        "\n",
        "> O(Log n)\n",
        "\n",
        "-  Você tem um número de telefone e deseja encontrar o dono dele em uma\n",
        "agenda telefônica. (Dica: Deve procurar pela agenda inteira!)\n",
        "\n",
        "> O(n)\n",
        "\n",
        "-  Você quer ler o número de cada pessoa da agenda telefônica.\n",
        "\n",
        "> O(n)\n",
        "\n",
        "- Você quer ler os números apenas dos nomes que começam com A. (Isso\n",
        "é complicado! Esse algoritmo envolve conceitos que são abordados mais\n",
        "profundamente no Capítulo 4. Leia a resposta – você ficará surpreso!)\n",
        "\n",
        "> O(n)"
      ],
      "metadata": {
        "id": "N_r_5y2W2eLH"
      }
    }
  ]
}