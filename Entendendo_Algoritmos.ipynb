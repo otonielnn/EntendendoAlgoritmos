{
  "nbformat": 4,
  "nbformat_minor": 0,
  "metadata": {
    "colab": {
      "provenance": []
    },
    "kernelspec": {
      "name": "python3",
      "display_name": "Python 3"
    },
    "language_info": {
      "name": "python"
    }
  },
  "cells": [
    {
      "cell_type": "markdown",
      "source": [
        "# Documentando Estudos do livro Entendendo Algoritmos (Aditya Y. Bhargava)\n",
        "\n",
        "## Capítulo 1 - Introdução a Algoritmos\n",
        "\n",
        "### Algoritmo de Busca binária"
      ],
      "metadata": {
        "id": "tNHhgcDPCXW0"
      }
    },
    {
      "cell_type": "code",
      "execution_count": null,
      "metadata": {
        "id": "rofbE9KpCDcQ",
        "colab": {
          "base_uri": "https://localhost:8080/"
        },
        "outputId": "0adbefb1-9782-4985-f945-bc18cd47038b"
      },
      "outputs": [
        {
          "output_type": "stream",
          "name": "stdout",
          "text": [
            "1\n",
            "None\n"
          ]
        }
      ],
      "source": [
        "def pesquisa_binaria(lista, item):\n",
        "  menor = 0\n",
        "  maior = len(lista) - 1\n",
        "\n",
        "  while menor <= maior:\n",
        "    meio = int((menor + maior) / 2)\n",
        "    chute = lista[meio]\n",
        "    if chute == item:\n",
        "      return meio\n",
        "    if chute > item:\n",
        "      maior = meio - 1\n",
        "    else:\n",
        "      menor = meio + 1\n",
        "  return None\n",
        "\n",
        "minha_lista = [1, 3 , 5, 7, 9]\n",
        "\n",
        "print(pesquisa_binaria(minha_lista, 3)) # retorna 1\n",
        "print(pesquisa_binaria(minha_lista, -1)) # retorna None"
      ]
    },
    {
      "cell_type": "markdown",
      "source": [
        "## Exercícios Busca Binária\n",
        "\n",
        "- 1.1 - Suponha que você tenha uma lista com 128 nomes e esteja fazendo uma\n",
        "pesquisa binária. Qual seria o número máximo de etapas que você levaria\n",
        "para encontrar o nome desejado?\n",
        "\n",
        "> Log(2) 128 = 7\n",
        "\n",
        "- 1.2 - Suponha que você duplique o tamanho da lista. Qual seria o número\n",
        "máximo de etapas agora?\n",
        "\n",
        "> Log(2) 256 = 8\n",
        "\n",
        "## Exercícios Big O\n",
        "\n",
        "- 1.3 -  Você tem um nome e deseja encontrar o número de telefone para esse\n",
        "nome em uma agenda telefônica.\n",
        "\n",
        "> O(Log n)\n",
        "\n",
        "-  1.4 - Você tem um número de telefone e deseja encontrar o dono dele em uma\n",
        "agenda telefônica. (Dica: Deve procurar pela agenda inteira!)\n",
        "\n",
        "> O(n)\n",
        "\n",
        "-  1.5 - Você quer ler o número de cada pessoa da agenda telefônica.\n",
        "\n",
        "> O(n)\n",
        "\n",
        "- 1.6 - Você quer ler os números apenas dos nomes que começam com A. (Isso é complicado! Esse algoritmo envolve conceitos que são abordados mais profundamente no Capítulo 4. Leia a resposta – você ficará surpreso!)\n",
        "\n",
        "> O(n)"
      ],
      "metadata": {
        "id": "N_r_5y2W2eLH"
      }
    },
    {
      "cell_type": "markdown",
      "source": [
        "# leetcode\n",
        "[35. Search Insert Position\n",
        "](https://leetcode.com/problems/search-insert-position/description/)"
      ],
      "metadata": {
        "id": "awrv5gJRbLds"
      }
    },
    {
      "cell_type": "code",
      "source": [
        "class Solution:\n",
        "    def searchInsert(nums, target) -> int:\n",
        "        left = 0\n",
        "        right = len(nums) - 1\n",
        "\n",
        "        while left <= right:\n",
        "            mid = left + (right - left) // 2\n",
        "            current = nums[mid]\n",
        "\n",
        "            if current == target:\n",
        "                return mid\n",
        "            elif current < target:\n",
        "                left = mid + 1\n",
        "            else:\n",
        "                right = mid - 1\n",
        "\n",
        "        return left\n",
        "\n",
        "\n",
        "    nums = [1,3,5,6]\n",
        "\n",
        "    print(searchInsert(nums, 5)) # 2\n",
        "    print(searchInsert(nums, 2)) # 1\n",
        "    print(searchInsert(nums, 7)) # 4"
      ],
      "metadata": {
        "colab": {
          "base_uri": "https://localhost:8080/"
        },
        "id": "N-w7w6n9pQoF",
        "outputId": "05a444b1-2c69-430d-ddc9-bbb00cee8a6b"
      },
      "execution_count": null,
      "outputs": [
        {
          "output_type": "stream",
          "name": "stdout",
          "text": [
            "2\n",
            "1\n",
            "4\n"
          ]
        }
      ]
    },
    {
      "cell_type": "markdown",
      "source": [
        "[268. Missing Number\n",
        "](https://leetcode.com/problems/missing-number//)"
      ],
      "metadata": {
        "id": "Mtal4_CXQ9pr"
      }
    },
    {
      "cell_type": "code",
      "source": [
        "class Solution:\n",
        "    def missingNumber(nums):\n",
        "        nums.sort()\n",
        "\n",
        "        left = 0\n",
        "        right = len(nums)\n",
        "\n",
        "        while left < right:\n",
        "          mid = left + (right - left) // 2\n",
        "\n",
        "          if nums[mid] > mid:\n",
        "            right = mid\n",
        "          else:\n",
        "            left = mid + 1\n",
        "\n",
        "        return left\n",
        "\n",
        "    print(missingNumber([0, 1]))"
      ],
      "metadata": {
        "colab": {
          "base_uri": "https://localhost:8080/"
        },
        "id": "TfEuNqSVN82h",
        "outputId": "31d4439a-b2cf-41cf-eabe-54914269f6a2"
      },
      "execution_count": null,
      "outputs": [
        {
          "output_type": "stream",
          "name": "stdout",
          "text": [
            "2\n"
          ]
        }
      ]
    },
    {
      "cell_type": "markdown",
      "source": [
        "## Capítulo 2 - Ordenação por seleção\n",
        "\n",
        "## Exercicio Caxeiro-Viajante\n",
        "\n",
        "- 2.1  Suponha que você esteja criando um aplicativo para acompanhar as suas Todos os dias você anotará tudo o que gastou e onde gastou. No Final do mês, você deverá revisar os seus gastos e resumir o quanto gastou. Logo você terá um monte de inserções e poucas leituras. Você deverá usar um array ou uma lista para implementar este aplicativo?\n",
        "> Lista, por ter uma leitura mais rápida que o array.\n",
        "\n",
        "- 2.2 Suponha que você esteja criando um aplicativo para anotar os pedidos\n",
        "dos clientes em um restaurante. Seu aplicativo precisa de uma lista de\n",
        "pedidos. Os garçons adicionam os pedidos a essa lista e os chefes retiram\n",
        "os pedidos da lista. Funciona como uma fila. Os garçons colocam os pedidos no final da fila e os chefes retiram os pedidos do começo dela para cozinhá-los. Você usaria um array ou uma lista encadeada para implementar essa lista?\n",
        "> Lista, pelo fato do chef estar pegando sempre o primeiro item da lista.\n",
        "\n",
        "- 2.3 Vamos analisar um experimento. Imagine que o Facebook guarda uma lista de usuários. Quando alguém tenta acessar o Facebook, uma busca é\n",
        "feita pelo nome de usuário. Se o nome da pessoa está na lista, ela pode\n",
        "continuar o acesso. As pessoas acessam o Facebook com muita\n",
        "frequência, então existem muitas buscas nessa lista. Presuma que o\n",
        "Facebook usa a pesquisa binária para procurar um nome na lista. A\n",
        "pesquisa binária requer acesso aleatório – você precisa ser capaz de\n",
        "acessar o meio da lista de nomes instantaneamente. Sabendo disso, você\n",
        "implementaria essa lista como um array ou uma lista encadeada?\n",
        "> Array, pelo fato de precisar acessar o meio da lista para fazer uma busca binária.\n",
        "\n",
        "- 2.4 As pessoas se inscrevem no Facebook com muita frequência também.\n",
        "Suponha que você decida usar um array para armazenar a lista de\n",
        "usuários. Quais as desvantagens de um array em relação às inserções? Em\n",
        "particular, imagine que você está usando a pesquisa binária para buscar\n",
        "os logins. O que acontece quando você adiciona novos usuários em um\n",
        "array?\n",
        "> O array tem inserções mais lenta em relação a Lista. Ao adicionar um novo usuário ele será colocado ao final da lista, precisando ordenar a lista toda vez que for adicionado um novo usuário.\n",
        "\n",
        "- 2.5 Na verdade, o Facebook não usa nem arrays nem listas encadeadas para\n",
        "armazenar informações. Vamos considerar uma estrutura de dados\n",
        "híbrida: um array de listas encadeadas. Você tem um array com 26 slots.\n",
        "Cada slot aponta para uma lista encadeada. Por exemplo, o primeiro slot\n",
        "do array aponta para uma lista encadeada que contém os usuários que\n",
        "começam com a letra A. O segundo slot aponta para a lista encadeada\n",
        "que contém os usuários que começam com a letra B, e assim por diante. Suponha que o Adit B se inscreva no Facebook e você queira adicioná-lo à\n",
        "lista. Você vai ao slot 1 do array, a seguir para a lista encadeada do slot 1, e\n",
        "adiciona Adit B no final. Agora, suponha que você queira procurar o Zakhir H. Você vai ao slot 26, que aponta para a lista encadeada de todos os nomes começados em Z. Então, procura pela lista até encontrar o Zakhir H. Compare esta estrutura híbrida com arrays e listas encadeadas. É mais lento\n",
        "ou mais rápido fazer inserções e eliminações nesse caso? Você não precisa\n",
        "responder dando o tempo de execução Big(O), apenas diga se a nova\n",
        "estrutura de dados é mais rápida ou mais lenta do que os arrays e as listas\n",
        "encadeadas.\n",
        "> Em relação ao array é mais lento, mas ainda assim é mais rápido do que a lista. Isso por conta de que daria para ele usar uma busca binária para encontrar a lista com a Inicial do nome, e em seguida fazer uma busca sequencial na lista até acha o exato nome.\n",
        "\n",
        "\n",
        "### Algoritmo de ordenação por seleção"
      ],
      "metadata": {
        "id": "K6o1roCtwwZS"
      }
    },
    {
      "cell_type": "code",
      "source": [
        "def buscarMenor(arr):\n",
        "  menor = arr[0]\n",
        "  menor_indice = 0\n",
        "  for i in range(1, len(arr)):\n",
        "    if arr[i] < menor:\n",
        "      menor = arr[i]\n",
        "      menor_indice = i\n",
        "  return menor_indice\n",
        "\n",
        "def ordenacaoporSelecao(arr):\n",
        "  novoArr = []\n",
        "  for i in range(len(arr)):\n",
        "    menor = buscarMenor(arr)\n",
        "    novoArr.append(arr.pop(menor))\n",
        "  return novoArr\n",
        "\n",
        "print(ordenacaoporSelecao([5, 3, 6, 2, 10]))"
      ],
      "metadata": {
        "colab": {
          "base_uri": "https://localhost:8080/"
        },
        "id": "T3avmn3Hf293",
        "outputId": "0763732a-bf57-4fc6-9173-e3b7d03efce2"
      },
      "execution_count": null,
      "outputs": [
        {
          "output_type": "stream",
          "name": "stdout",
          "text": [
            "[2, 3, 5, 6, 10]\n"
          ]
        }
      ]
    },
    {
      "cell_type": "markdown",
      "source": [
        "## Capítulo 3 - Recursão\n",
        "\n",
        "### Contagem regressiva"
      ],
      "metadata": {
        "id": "TIinGaR5whGJ"
      }
    },
    {
      "cell_type": "code",
      "source": [
        "def regressiva(i):\n",
        "  print(i)\n",
        "  if (i == 0):\n",
        "    print(\"Fim\")\n",
        "    return\n",
        "  else:\n",
        "    regressiva(i - 1)\n",
        "\n",
        "regressiva(10)"
      ],
      "metadata": {
        "colab": {
          "base_uri": "https://localhost:8080/"
        },
        "id": "Lv19sfYMyaXt",
        "outputId": "b33298ac-8060-4827-f421-f535787d5d3b"
      },
      "execution_count": null,
      "outputs": [
        {
          "output_type": "stream",
          "name": "stdout",
          "text": [
            "10\n",
            "9\n",
            "8\n",
            "7\n",
            "6\n",
            "5\n",
            "4\n",
            "3\n",
            "2\n",
            "1\n",
            "0\n",
            "Fim\n"
          ]
        }
      ]
    },
    {
      "cell_type": "markdown",
      "source": [
        "## Pilha"
      ],
      "metadata": {
        "id": "xit8XrDf0LZh"
      }
    },
    {
      "cell_type": "code",
      "source": [
        "def sauda(nome):\n",
        "  print(f\"Olá {nome}!\")\n",
        "  sauda2(nome)\n",
        "  print(\"preparando pra dizer tchau...\")\n",
        "  tchau()\n",
        "\n",
        "def sauda2(nome):\n",
        "  print(f\"como vai {nome}?\")\n",
        "\n",
        "def tchau():\n",
        "  print(\"Ok, tchau!\")\n",
        "\n",
        "sauda(\"otoniel\")"
      ],
      "metadata": {
        "colab": {
          "base_uri": "https://localhost:8080/"
        },
        "id": "-8es15ca0PFT",
        "outputId": "d7076369-a834-4a4f-9389-7e61cf128895"
      },
      "execution_count": null,
      "outputs": [
        {
          "output_type": "stream",
          "name": "stdout",
          "text": [
            "Olá otoniel!\n",
            "como vai otoniel?\n",
            "preparando pra dizer tchau...\n",
            "Ok, tchau!\n"
          ]
        }
      ]
    },
    {
      "cell_type": "markdown",
      "source": [
        "## Exercicio pilha\n",
        "- 3.1 Suponha que eu fonerça uma pilha de chamada como esta: (imagem no livro). Quais informações você pode retirar baseando-se apenas nesta pilha de chamada?\n",
        "> A função sauda está chamando a função sauda2. As duas estão usando \"maggie\" como parâmetro. Após a função sauda2 ser finalizada, será retomada a função sauda\n",
        "\n",
        "## Pilha de chamada com recursão"
      ],
      "metadata": {
        "id": "U05V2wZ61btE"
      }
    },
    {
      "cell_type": "code",
      "source": [
        "def fat(x):\n",
        "  if x == 1:\n",
        "    return 1\n",
        "  else:\n",
        "    return x * fat(x - 1)\n",
        "\n",
        "print(fat(3))\n",
        "print(fat(5))"
      ],
      "metadata": {
        "colab": {
          "base_uri": "https://localhost:8080/"
        },
        "id": "l3wM12gp8aj6",
        "outputId": "0ca52438-a169-4f32-85a4-9ec1f9ab21b6"
      },
      "execution_count": null,
      "outputs": [
        {
          "output_type": "stream",
          "name": "stdout",
          "text": [
            "6\n",
            "120\n"
          ]
        }
      ]
    },
    {
      "cell_type": "code",
      "source": [],
      "metadata": {
        "id": "uRUsig__mlCF"
      },
      "execution_count": null,
      "outputs": []
    },
    {
      "cell_type": "markdown",
      "source": [
        "## Exercicio pilha de chamada com recursão\n",
        "- Suponha que você acidentalmente escreva uma função recursiva que fique exutando infinitamente. Como você viu, seu computador aloca memória na pilha para cada chamada de função. O que acontece com a pilha quando a função recursiva fica executando infinitamente.\n",
        "> A pilha cresce infinitamente, até chegar ao limite de espaço, fazendo o programa ser interrompido.\n"
      ],
      "metadata": {
        "id": "ascp5GPkl0b3"
      }
    }
  ]
}