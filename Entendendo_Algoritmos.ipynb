{
  "cells": [
    {
      "cell_type": "markdown",
      "metadata": {
        "id": "tNHhgcDPCXW0"
      },
      "source": [
        "# Documentando Estudos do livro Entendendo Algoritmos (Aditya Y. Bhargava)\n",
        "\n",
        "## Capítulo 1 - Introdução a Algoritmos\n",
        "\n",
        "### Algoritmo de Busca binária"
      ]
    },
    {
      "cell_type": "code",
      "execution_count": null,
      "metadata": {
        "colab": {
          "base_uri": "https://localhost:8080/"
        },
        "id": "rofbE9KpCDcQ",
        "outputId": "0adbefb1-9782-4985-f945-bc18cd47038b"
      },
      "outputs": [
        {
          "name": "stdout",
          "output_type": "stream",
          "text": [
            "1\n",
            "None\n"
          ]
        }
      ],
      "source": [
        "def pesquisa_binaria(lista, item):\n",
        "  menor = 0\n",
        "  maior = len(lista) - 1\n",
        "\n",
        "  while menor <= maior:\n",
        "    meio = int((menor + maior) / 2)\n",
        "    chute = lista[meio]\n",
        "    if chute == item:\n",
        "      return meio\n",
        "    if chute > item:\n",
        "      maior = meio - 1\n",
        "    else:\n",
        "      menor = meio + 1\n",
        "  return None\n",
        "\n",
        "minha_lista = [1, 3 , 5, 7, 9]\n",
        "\n",
        "print(pesquisa_binaria(minha_lista, 3)) # retorna 1\n",
        "print(pesquisa_binaria(minha_lista, -1)) # retorna None"
      ]
    },
    {
      "cell_type": "markdown",
      "metadata": {
        "id": "N_r_5y2W2eLH"
      },
      "source": [
        "## Exercícios Busca Binária\n",
        "\n",
        "- 1.1 - Suponha que você tenha uma lista com 128 nomes e esteja fazendo uma\n",
        "pesquisa binária. Qual seria o número máximo de etapas que você levaria\n",
        "para encontrar o nome desejado?\n",
        "\n",
        "> Log(2) 128 = 7\n",
        "\n",
        "- 1.2 - Suponha que você duplique o tamanho da lista. Qual seria o número\n",
        "máximo de etapas agora?\n",
        "\n",
        "> Log(2) 256 = 8\n",
        "\n",
        "## Exercícios Big O\n",
        "\n",
        "- 1.3 -  Você tem um nome e deseja encontrar o número de telefone para esse\n",
        "nome em uma agenda telefônica.\n",
        "\n",
        "> O(Log n)\n",
        "\n",
        "-  1.4 - Você tem um número de telefone e deseja encontrar o dono dele em uma\n",
        "agenda telefônica. (Dica: Deve procurar pela agenda inteira!)\n",
        "\n",
        "> O(n)\n",
        "\n",
        "-  1.5 - Você quer ler o número de cada pessoa da agenda telefônica.\n",
        "\n",
        "> O(n)\n",
        "\n",
        "- 1.6 - Você quer ler os números apenas dos nomes que começam com A. (Isso é complicado! Esse algoritmo envolve conceitos que são abordados mais profundamente no Capítulo 4. Leia a resposta – você ficará surpreso!)\n",
        "\n",
        "> O(n)"
      ]
    },
    {
      "cell_type": "markdown",
      "metadata": {
        "id": "awrv5gJRbLds"
      },
      "source": [
        "# leetcode\n",
        "[35. Search Insert Position\n",
        "](https://leetcode.com/problems/search-insert-position/description/)"
      ]
    },
    {
      "cell_type": "code",
      "execution_count": null,
      "metadata": {
        "colab": {
          "base_uri": "https://localhost:8080/"
        },
        "id": "N-w7w6n9pQoF",
        "outputId": "05a444b1-2c69-430d-ddc9-bbb00cee8a6b"
      },
      "outputs": [
        {
          "name": "stdout",
          "output_type": "stream",
          "text": [
            "2\n",
            "1\n",
            "4\n"
          ]
        }
      ],
      "source": [
        "class Solution:\n",
        "    def searchInsert(nums, target) -> int:\n",
        "        left = 0\n",
        "        right = len(nums) - 1\n",
        "\n",
        "        while left <= right:\n",
        "            mid = left + (right - left) // 2\n",
        "            current = nums[mid]\n",
        "\n",
        "            if current == target:\n",
        "                return mid\n",
        "            elif current < target:\n",
        "                left = mid + 1\n",
        "            else:\n",
        "                right = mid - 1\n",
        "\n",
        "        return left\n",
        "\n",
        "\n",
        "    nums = [1,3,5,6]\n",
        "\n",
        "    print(searchInsert(nums, 5)) # 2\n",
        "    print(searchInsert(nums, 2)) # 1\n",
        "    print(searchInsert(nums, 7)) # 4"
      ]
    },
    {
      "cell_type": "markdown",
      "metadata": {
        "id": "Mtal4_CXQ9pr"
      },
      "source": [
        "[268. Missing Number\n",
        "](https://leetcode.com/problems/missing-number//)"
      ]
    },
    {
      "cell_type": "code",
      "execution_count": 30,
      "metadata": {
        "colab": {
          "base_uri": "https://localhost:8080/"
        },
        "id": "TfEuNqSVN82h",
        "outputId": "f3ca511d-293b-4273-cce6-3051480ce65a"
      },
      "outputs": [
        {
          "name": "stdout",
          "output_type": "stream",
          "text": [
            "2\n"
          ]
        }
      ],
      "source": [
        "class Solution:\n",
        "    def missingNumber(nums):\n",
        "        nums.sort()\n",
        "\n",
        "        left = 0\n",
        "        right = len(nums)\n",
        "\n",
        "        while left < right:\n",
        "          mid = left + (right - left) // 2\n",
        "\n",
        "          if nums[mid] > mid:\n",
        "            right = mid\n",
        "          else:\n",
        "            left = mid + 1\n",
        "\n",
        "        return left\n",
        "\n",
        "    print(missingNumber([3, 1, 4, 0]))"
      ]
    }
  ],
  "metadata": {
    "colab": {
      "provenance": []
    },
    "kernelspec": {
      "display_name": "Python 3",
      "name": "python3"
    },
    "language_info": {
      "name": "python"
    }
  },
  "nbformat": 4,
  "nbformat_minor": 0
}
