{
  "nbformat": 4,
  "nbformat_minor": 0,
  "metadata": {
    "colab": {
      "provenance": []
    },
    "kernelspec": {
      "name": "python3",
      "display_name": "Python 3"
    },
    "language_info": {
      "name": "python"
    }
  },
  "cells": [
    {
      "cell_type": "markdown",
      "source": [
        "# Documentando Estudos do livro Entendendo Algoritmos (Aditya Y. Bhargava)\n",
        "\n",
        "## Capítulo 1 - Introdução a Algoritmos\n",
        "\n",
        "### Algoritmo de Busca binária O(log n)"
      ],
      "metadata": {
        "id": "tNHhgcDPCXW0"
      }
    },
    {
      "cell_type": "code",
      "execution_count": null,
      "metadata": {
        "id": "rofbE9KpCDcQ",
        "colab": {
          "base_uri": "https://localhost:8080/"
        },
        "outputId": "8ff88ebf-20b3-4a58-8fc5-4dc1e17e55ef"
      },
      "outputs": [
        {
          "output_type": "stream",
          "name": "stdout",
          "text": [
            "1\n",
            "None\n"
          ]
        }
      ],
      "source": [
        "def pesquisa_binaria(lista, item):\n",
        "  menor = 0\n",
        "  maior = len(lista) - 1\n",
        "\n",
        "  while menor <= maior:\n",
        "    meio = int((menor + maior) / 2)\n",
        "    chute = lista[meio]\n",
        "    if chute == item:\n",
        "      return meio\n",
        "    if chute > item:\n",
        "      maior = meio - 1\n",
        "    else:\n",
        "      menor = meio + 1\n",
        "  return None\n",
        "\n",
        "minha_lista = [1, 3 , 5, 7, 9]\n",
        "\n",
        "print(pesquisa_binaria(minha_lista, 3)) # retorna 1\n",
        "print(pesquisa_binaria(minha_lista, -1)) # retorna None"
      ]
    },
    {
      "cell_type": "markdown",
      "source": [
        "## Exercícios Busca Binária\n",
        "\n",
        "- 1.1 - Suponha que você tenha uma lista com 128 nomes e esteja fazendo uma\n",
        "pesquisa binária. Qual seria o número máximo de etapas que você levaria\n",
        "para encontrar o nome desejado?\n",
        "\n",
        "> Log(2) 128 = 7\n",
        "\n",
        "- 1.2 - Suponha que você duplique o tamanho da lista. Qual seria o número\n",
        "máximo de etapas agora?\n",
        "\n",
        "> Log(2) 256 = 8\n",
        "\n",
        "## Exercícios Big O\n",
        "\n",
        "- 1.3 -  Você tem um nome e deseja encontrar o número de telefone para esse\n",
        "nome em uma agenda telefônica.\n",
        "\n",
        "> O(Log n)\n",
        "\n",
        "-  1.4 - Você tem um número de telefone e deseja encontrar o dono dele em uma\n",
        "agenda telefônica. (Dica: Deve procurar pela agenda inteira!)\n",
        "\n",
        "> O(n)\n",
        "\n",
        "-  1.5 - Você quer ler o número de cada pessoa da agenda telefônica.\n",
        "\n",
        "> O(n)\n",
        "\n",
        "- 1.6 - Você quer ler os números apenas dos nomes que começam com A. (Isso é complicado! Esse algoritmo envolve conceitos que são abordados mais profundamente no Capítulo 4. Leia a resposta – você ficará surpreso!)\n",
        "\n",
        "> O(n)"
      ],
      "metadata": {
        "id": "N_r_5y2W2eLH"
      }
    },
    {
      "cell_type": "markdown",
      "source": [
        "# leetcode\n",
        "[35. Search Insert Position\n",
        "](https://leetcode.com/problems/search-insert-position/description/)"
      ],
      "metadata": {
        "id": "awrv5gJRbLds"
      }
    },
    {
      "cell_type": "code",
      "source": [
        "class Solution:\n",
        "    def searchInsert(nums, target) -> int:\n",
        "        left = 0\n",
        "        right = len(nums) - 1\n",
        "\n",
        "        while left <= right:\n",
        "            mid = left + (right - left) // 2\n",
        "            current = nums[mid]\n",
        "\n",
        "            if current == target:\n",
        "                return mid\n",
        "            elif current < target:\n",
        "                left = mid + 1\n",
        "            else:\n",
        "                right = mid - 1\n",
        "\n",
        "        return left\n",
        "\n",
        "\n",
        "    nums = [1,3,5,6]\n",
        "\n",
        "    print(searchInsert(nums, 5)) # 2\n",
        "    print(searchInsert(nums, 2)) # 1\n",
        "    print(searchInsert(nums, 7)) # 4"
      ],
      "metadata": {
        "colab": {
          "base_uri": "https://localhost:8080/"
        },
        "id": "N-w7w6n9pQoF",
        "outputId": "05a444b1-2c69-430d-ddc9-bbb00cee8a6b"
      },
      "execution_count": null,
      "outputs": [
        {
          "output_type": "stream",
          "name": "stdout",
          "text": [
            "2\n",
            "1\n",
            "4\n"
          ]
        }
      ]
    },
    {
      "cell_type": "markdown",
      "source": [
        "[268. Missing Number\n",
        "](https://leetcode.com/problems/missing-number//)"
      ],
      "metadata": {
        "id": "Mtal4_CXQ9pr"
      }
    },
    {
      "cell_type": "code",
      "source": [
        "class Solution:\n",
        "    def missingNumber(nums):\n",
        "        nums.sort()\n",
        "\n",
        "        left = 0\n",
        "        right = len(nums)\n",
        "\n",
        "        while left < right:\n",
        "          mid = left + (right - left) // 2\n",
        "\n",
        "          if nums[mid] > mid:\n",
        "            right = mid\n",
        "          else:\n",
        "            left = mid + 1\n",
        "\n",
        "        return left\n",
        "\n",
        "    print(missingNumber([0, 1]))"
      ],
      "metadata": {
        "colab": {
          "base_uri": "https://localhost:8080/"
        },
        "id": "TfEuNqSVN82h",
        "outputId": "31d4439a-b2cf-41cf-eabe-54914269f6a2"
      },
      "execution_count": null,
      "outputs": [
        {
          "output_type": "stream",
          "name": "stdout",
          "text": [
            "2\n"
          ]
        }
      ]
    },
    {
      "cell_type": "markdown",
      "source": [
        "## Capítulo 2 - Ordenação por seleção\n",
        "\n",
        "## Exercicio Caxeiro-Viajante\n",
        "\n",
        "- 2.1  Suponha que você esteja criando um aplicativo para acompanhar as suas Todos os dias você anotará tudo o que gastou e onde gastou. No Final do mês, você deverá revisar os seus gastos e resumir o quanto gastou. Logo você terá um monte de inserções e poucas leituras. Você deverá usar um array ou uma lista para implementar este aplicativo?\n",
        "> Lista, por ter uma leitura mais rápida que o array.\n",
        "\n",
        "- 2.2 Suponha que você esteja criando um aplicativo para anotar os pedidos\n",
        "dos clientes em um restaurante. Seu aplicativo precisa de uma lista de\n",
        "pedidos. Os garçons adicionam os pedidos a essa lista e os chefes retiram\n",
        "os pedidos da lista. Funciona como uma fila. Os garçons colocam os pedidos no final da fila e os chefes retiram os pedidos do começo dela para cozinhá-los. Você usaria um array ou uma lista encadeada para implementar essa lista?\n",
        "> Lista, pelo fato do chef estar pegando sempre o primeiro item da lista.\n",
        "\n",
        "- 2.3 Vamos analisar um experimento. Imagine que o Facebook guarda uma lista de usuários. Quando alguém tenta acessar o Facebook, uma busca é\n",
        "feita pelo nome de usuário. Se o nome da pessoa está na lista, ela pode\n",
        "continuar o acesso. As pessoas acessam o Facebook com muita\n",
        "frequência, então existem muitas buscas nessa lista. Presuma que o\n",
        "Facebook usa a pesquisa binária para procurar um nome na lista. A\n",
        "pesquisa binária requer acesso aleatório – você precisa ser capaz de\n",
        "acessar o meio da lista de nomes instantaneamente. Sabendo disso, você\n",
        "implementaria essa lista como um array ou uma lista encadeada?\n",
        "> Array, pelo fato de precisar acessar o meio da lista para fazer uma busca binária.\n",
        "\n",
        "- 2.4 As pessoas se inscrevem no Facebook com muita frequência também.\n",
        "Suponha que você decida usar um array para armazenar a lista de\n",
        "usuários. Quais as desvantagens de um array em relação às inserções? Em\n",
        "particular, imagine que você está usando a pesquisa binária para buscar\n",
        "os logins. O que acontece quando você adiciona novos usuários em um\n",
        "array?\n",
        "> O array tem inserções mais lenta em relação a Lista. Ao adicionar um novo usuário ele será colocado ao final da lista, precisando ordenar a lista toda vez que for adicionado um novo usuário.\n",
        "\n",
        "- 2.5 Na verdade, o Facebook não usa nem arrays nem listas encadeadas para\n",
        "armazenar informações. Vamos considerar uma estrutura de dados\n",
        "híbrida: um array de listas encadeadas. Você tem um array com 26 slots.\n",
        "Cada slot aponta para uma lista encadeada. Por exemplo, o primeiro slot\n",
        "do array aponta para uma lista encadeada que contém os usuários que\n",
        "começam com a letra A. O segundo slot aponta para a lista encadeada\n",
        "que contém os usuários que começam com a letra B, e assim por diante. Suponha que o Adit B se inscreva no Facebook e você queira adicioná-lo à\n",
        "lista. Você vai ao slot 1 do array, a seguir para a lista encadeada do slot 1, e\n",
        "adiciona Adit B no final. Agora, suponha que você queira procurar o Zakhir H. Você vai ao slot 26, que aponta para a lista encadeada de todos os nomes começados em Z. Então, procura pela lista até encontrar o Zakhir H. Compare esta estrutura híbrida com arrays e listas encadeadas. É mais lento\n",
        "ou mais rápido fazer inserções e eliminações nesse caso? Você não precisa\n",
        "responder dando o tempo de execução Big(O), apenas diga se a nova\n",
        "estrutura de dados é mais rápida ou mais lenta do que os arrays e as listas\n",
        "encadeadas.\n",
        "> Em relação ao array é mais lento, mas ainda assim é mais rápido do que a lista. Isso por conta de que daria para ele usar uma busca binária para encontrar a lista com a Inicial do nome, e em seguida fazer uma busca sequencial na lista até acha o exato nome.\n",
        "\n",
        "\n",
        "### Algoritmo de ordenação por seleção O(n²)"
      ],
      "metadata": {
        "id": "K6o1roCtwwZS"
      }
    },
    {
      "cell_type": "code",
      "source": [
        "def buscarMenor(arr):\n",
        "  menor = arr[0]\n",
        "  menor_indice = 0\n",
        "  for i in range(1, len(arr)):\n",
        "    if arr[i] < menor:\n",
        "      menor = arr[i]\n",
        "      menor_indice = i\n",
        "  return menor_indice\n",
        "\n",
        "def ordenacaoporSelecao(arr):\n",
        "  novoArr = []\n",
        "  for i in range(len(arr)):\n",
        "    menor = buscarMenor(arr)\n",
        "    novoArr.append(arr.pop(menor))\n",
        "  return novoArr\n",
        "\n",
        "print(ordenacaoporSelecao([5, 3, 6, 2, 10]))"
      ],
      "metadata": {
        "colab": {
          "base_uri": "https://localhost:8080/"
        },
        "id": "T3avmn3Hf293",
        "outputId": "0763732a-bf57-4fc6-9173-e3b7d03efce2"
      },
      "execution_count": null,
      "outputs": [
        {
          "output_type": "stream",
          "name": "stdout",
          "text": [
            "[2, 3, 5, 6, 10]\n"
          ]
        }
      ]
    },
    {
      "cell_type": "markdown",
      "source": [
        "## Capítulo 3 - Recursão\n",
        "\n",
        "### Contagem regressiva"
      ],
      "metadata": {
        "id": "TIinGaR5whGJ"
      }
    },
    {
      "cell_type": "code",
      "source": [
        "def regressiva(i):\n",
        "  print(i)\n",
        "  if (i == 0):\n",
        "    print(\"Fim\")\n",
        "    return\n",
        "  else:\n",
        "    regressiva(i - 1)\n",
        "\n",
        "regressiva(10)"
      ],
      "metadata": {
        "colab": {
          "base_uri": "https://localhost:8080/"
        },
        "id": "Lv19sfYMyaXt",
        "outputId": "b33298ac-8060-4827-f421-f535787d5d3b"
      },
      "execution_count": null,
      "outputs": [
        {
          "output_type": "stream",
          "name": "stdout",
          "text": [
            "10\n",
            "9\n",
            "8\n",
            "7\n",
            "6\n",
            "5\n",
            "4\n",
            "3\n",
            "2\n",
            "1\n",
            "0\n",
            "Fim\n"
          ]
        }
      ]
    },
    {
      "cell_type": "markdown",
      "source": [
        "## Pilha"
      ],
      "metadata": {
        "id": "xit8XrDf0LZh"
      }
    },
    {
      "cell_type": "code",
      "source": [
        "def sauda(nome):\n",
        "  print(f\"Olá {nome}!\")\n",
        "  sauda2(nome)\n",
        "  print(\"preparando pra dizer tchau...\")\n",
        "  tchau()\n",
        "\n",
        "def sauda2(nome):\n",
        "  print(f\"como vai {nome}?\")\n",
        "\n",
        "def tchau():\n",
        "  print(\"Ok, tchau!\")\n",
        "\n",
        "sauda(\"otoniel\")"
      ],
      "metadata": {
        "colab": {
          "base_uri": "https://localhost:8080/"
        },
        "id": "-8es15ca0PFT",
        "outputId": "d7076369-a834-4a4f-9389-7e61cf128895"
      },
      "execution_count": null,
      "outputs": [
        {
          "output_type": "stream",
          "name": "stdout",
          "text": [
            "Olá otoniel!\n",
            "como vai otoniel?\n",
            "preparando pra dizer tchau...\n",
            "Ok, tchau!\n"
          ]
        }
      ]
    },
    {
      "cell_type": "markdown",
      "source": [
        "## Exercicio pilha\n",
        "- 3.1 Suponha que eu fonerça uma pilha de chamada como esta: (imagem no livro). Quais informações você pode retirar baseando-se apenas nesta pilha de chamada?\n",
        "> A função sauda está chamando a função sauda2. As duas estão usando \"maggie\" como parâmetro. Após a função sauda2 ser finalizada, será retomada a função sauda\n",
        "\n",
        "## Pilha de chamada com recursão"
      ],
      "metadata": {
        "id": "U05V2wZ61btE"
      }
    },
    {
      "cell_type": "code",
      "source": [
        "def fat(x):\n",
        "  if x == 1:\n",
        "    return 1\n",
        "  else:\n",
        "    return x * fat(x - 1)\n",
        "\n",
        "print(fat(3))\n",
        "print(fat(5))"
      ],
      "metadata": {
        "colab": {
          "base_uri": "https://localhost:8080/"
        },
        "id": "l3wM12gp8aj6",
        "outputId": "0ca52438-a169-4f32-85a4-9ec1f9ab21b6"
      },
      "execution_count": null,
      "outputs": [
        {
          "output_type": "stream",
          "name": "stdout",
          "text": [
            "6\n",
            "120\n"
          ]
        }
      ]
    },
    {
      "cell_type": "markdown",
      "source": [
        "## Exercicio pilha de chamada com recursão\n",
        "- Suponha que você acidentalmente escreva uma função recursiva que fique exutando infinitamente. Como você viu, seu computador aloca memória na pilha para cada chamada de função. O que acontece com a pilha quando a função recursiva fica executando infinitamente.\n",
        "> A pilha cresce infinitamente, até chegar ao limite de espaço, fazendo o programa ser interrompido.\n"
      ],
      "metadata": {
        "id": "ascp5GPkl0b3"
      }
    },
    {
      "cell_type": "markdown",
      "source": [
        "## Capítulo 4 - QuickSort\n",
        "\n",
        "## Exercícios\n",
        "\n",
        "- 4.1 Escreva o código para a função soma, vista anteriormente."
      ],
      "metadata": {
        "id": "_jHg0J9ZsrGg"
      }
    },
    {
      "cell_type": "code",
      "source": [
        "def soma(lista):\n",
        "  total = 0\n",
        "  for x in lista:\n",
        "    total += x\n",
        "  return total\n",
        "\n",
        "print(soma([1, 2, 3, 4]))"
      ],
      "metadata": {
        "colab": {
          "base_uri": "https://localhost:8080/"
        },
        "id": "aTxy6k4hs5Gy",
        "outputId": "65ffce50-9c9e-498a-d23a-58284e68a2cc"
      },
      "execution_count": null,
      "outputs": [
        {
          "output_type": "stream",
          "name": "stdout",
          "text": [
            "10\n"
          ]
        }
      ]
    },
    {
      "cell_type": "markdown",
      "source": [
        "- 4.1.2 na forma recursiva"
      ],
      "metadata": {
        "id": "jpDuM7bU6EiF"
      }
    },
    {
      "cell_type": "code",
      "source": [
        "def soma_recursiva(lista):\n",
        "    if not lista:\n",
        "        return 0\n",
        "    return lista[0] + soma_recursiva(lista[1:])\n",
        "\n",
        "print(soma_recursiva([1, 2, 3, 4]))"
      ],
      "metadata": {
        "colab": {
          "base_uri": "https://localhost:8080/"
        },
        "id": "77U5Qo_ZuH2I",
        "outputId": "dfef9676-10aa-4a82-e350-8a4e3eb44059"
      },
      "execution_count": null,
      "outputs": [
        {
          "output_type": "stream",
          "name": "stdout",
          "text": [
            "10\n"
          ]
        }
      ]
    },
    {
      "cell_type": "markdown",
      "source": [
        "- 4.2 Escreva uma função recursiva que conte o número de itens em uma lista"
      ],
      "metadata": {
        "id": "qT9tFlo36b0Q"
      }
    },
    {
      "cell_type": "code",
      "source": [
        "def count(lista):\n",
        "  if not lista:\n",
        "    return 0\n",
        "  return 1 + count(lista[1:])\n",
        "\n",
        "print(count([1, 2, 3, 4]))"
      ],
      "metadata": {
        "colab": {
          "base_uri": "https://localhost:8080/"
        },
        "id": "9-3lfpvd6Z4e",
        "outputId": "5477179b-89dd-4236-dde6-4d2e183d2d05"
      },
      "execution_count": null,
      "outputs": [
        {
          "output_type": "stream",
          "name": "stdout",
          "text": [
            "4\n"
          ]
        }
      ]
    },
    {
      "cell_type": "markdown",
      "source": [
        "- 4.3 Encontre o valor mais alto em uma lista."
      ],
      "metadata": {
        "id": "LQpmuSP47G2K"
      }
    },
    {
      "cell_type": "code",
      "source": [
        "def maior(lista):\n",
        "  if len(lista) == 2:\n",
        "    return lista[0] if lista[0] > lista[1] else lista[1]\n",
        "  sub_max = maior(lista[1:])\n",
        "  return lista[0] if lista[0] > sub_max else sub_max\n",
        "\n",
        "print(maior([2, 1, 5, 7]))"
      ],
      "metadata": {
        "colab": {
          "base_uri": "https://localhost:8080/"
        },
        "id": "GAWI6Mae7Ip5",
        "outputId": "af6aaa2e-7888-4f86-f35f-e4907122c4b2"
      },
      "execution_count": null,
      "outputs": [
        {
          "output_type": "stream",
          "name": "stdout",
          "text": [
            "7\n"
          ]
        }
      ]
    },
    {
      "cell_type": "markdown",
      "source": [
        "- 4.4 Você se lembra da pesquisa binária do Capítulo 1? Ela também é um\n",
        "algoritmo do tipo dividir para conquistar. Você consegue determinar o\n",
        "caso-base e o caso recursivo para a pesquisa binária?\n",
        "> - Caso Base: faz uma pequisa binária no array, caso o número desejado esteja no array ele será encontrado, caso contrario o número não está no array.\n",
        "> - Caso Recursivo: Executa a pesquisa binária descartando a outra metade do array.\n",
        "\n",
        "## Código para o quicksort O(n log n)"
      ],
      "metadata": {
        "id": "yykXrozW9c9L"
      }
    },
    {
      "cell_type": "code",
      "source": [
        "def quicksort(array):\n",
        "  if len(array) < 2:\n",
        "    return array\n",
        "  else:\n",
        "    pivo = array[0]\n",
        "    menores = [i for i in array[1:] if i <= pivo]\n",
        "    maiores = [i for i in array[1:] if i > pivo]\n",
        "    return quicksort(menores) + [pivo] + quicksort(maiores)\n",
        "\n",
        "print(quicksort([10, 5, 2, 3]))"
      ],
      "metadata": {
        "colab": {
          "base_uri": "https://localhost:8080/"
        },
        "id": "EMiHbzVvckxa",
        "outputId": "b4ddcb21-3cb9-4fbc-c616-445544068e36"
      },
      "execution_count": null,
      "outputs": [
        {
          "output_type": "stream",
          "name": "stdout",
          "text": [
            "[2, 3, 5, 10]\n"
          ]
        }
      ]
    },
    {
      "cell_type": "markdown",
      "source": [
        "## Exercícios\n",
        "Qunato tempo levaria, em notação Big O, para completar cada uma destas operações?\n",
        "- 4.5 Imprimir o valor de cada elemento de um array.\n",
        "> O(n) pois é necessário percorrer todo o array.\n",
        "- 4.6 Duplicar o valor de cada elemento de um array.\n",
        "> O(n) para percorrer todo array duplicando seus valores.\n",
        "- 4.7 Duplicar o valor apenas do primeiro elemento do array.\n",
        "> O(1) pois vai apenas duplicar o primeiro valo, sendo um caso base.\n",
        "- 4.8 Criar uma tabela de multiplicação com todos os elementos do array. Assim, caso o seu array seja [2, 3, 7, 8, 10], você primeiro multiplicará por 7, e assim por diante.\n",
        ">O(n²) pois vai percorrer cada elemento do array 2 vezes."
      ],
      "metadata": {
        "id": "Z4A_w3f_LT5e"
      }
    },
    {
      "cell_type": "markdown",
      "source": [
        "## Capítulo 5 - Tabelas Hash\n",
        "\n",
        "## hash Caderno\n"
      ],
      "metadata": {
        "id": "CjLrq2n3tvC4"
      }
    },
    {
      "cell_type": "code",
      "source": [
        "caderno = dict()\n",
        "\n",
        "caderno[\"maçã\"] = 0.67\n",
        "caderno[\"leite\"] = 1.49\n",
        "caderno[\"abacate\"] = 1.49\n",
        "\n",
        "print(caderno[\"maçã\"])\n",
        "print(caderno[\"leite\"])\n",
        "print(caderno[\"abacate\"])\n",
        "print(caderno)"
      ],
      "metadata": {
        "colab": {
          "base_uri": "https://localhost:8080/"
        },
        "id": "EH_G7LxQturi",
        "outputId": "41266fe9-4cff-4155-cda9-deee4bf4320f"
      },
      "execution_count": null,
      "outputs": [
        {
          "output_type": "stream",
          "name": "stdout",
          "text": [
            "0.67\n",
            "1.49\n",
            "1.49\n",
            "{'maçã': 0.67, 'leite': 1.49, 'abacate': 1.49}\n"
          ]
        }
      ]
    },
    {
      "cell_type": "markdown",
      "source": [
        "## Exercícios\n",
        "Quais destas funções hash são consistentes?\n",
        "- 5.1 f(x) = 1\n",
        "> Consistente\n",
        "- 5.2 f(x) = rand()\n",
        "> Incosistente\n",
        "- 5.3 f(x) proximo_espaco_vazio()\n",
        "> Incosistente\n",
        "- 5.4 f(x) = len(x)\n",
        "> Consistente\n",
        "\n",
        "## Hash Lista Telefônica"
      ],
      "metadata": {
        "id": "UJML_SpcztEN"
      }
    },
    {
      "cell_type": "code",
      "source": [
        "lista_telefonica = {\n",
        "    \"jenny\": 8675309,\n",
        "    \"emergency\": 911\n",
        "}\n",
        "\n",
        "print(lista_telefonica[\"jenny\"])\n",
        "print(lista_telefonica[\"emergency\"])"
      ],
      "metadata": {
        "colab": {
          "base_uri": "https://localhost:8080/"
        },
        "id": "a7CGepsBzsUK",
        "outputId": "c026cda3-6587-4ffb-c7e1-701980b000a1"
      },
      "execution_count": null,
      "outputs": [
        {
          "output_type": "stream",
          "name": "stdout",
          "text": [
            "123\n",
            "911\n"
          ]
        }
      ]
    },
    {
      "cell_type": "markdown",
      "source": [
        "## Hash para verificar eleitor"
      ],
      "metadata": {
        "id": "cmwicr5V9rfr"
      }
    },
    {
      "cell_type": "code",
      "source": [
        "votaram = {}\n",
        "\n",
        "def verificar_eleitor(nome):\n",
        "  if votaram.get(nome):\n",
        "    print(\"Mande embora!\")\n",
        "  else:\n",
        "    votaram[nome] = True\n",
        "    print(\"Deixe votar!\")\n",
        "\n",
        "verificar_eleitor(\"otoniel\")\n",
        "verificar_eleitor(\"otoniel\")\n",
        "verificar_eleitor(\"jenny\")\n",
        "\n",
        "print(votaram)"
      ],
      "metadata": {
        "colab": {
          "base_uri": "https://localhost:8080/"
        },
        "id": "OZHMiv479rFj",
        "outputId": "3ed57755-f23d-4c28-9d99-345671f05e2b"
      },
      "execution_count": null,
      "outputs": [
        {
          "output_type": "stream",
          "name": "stdout",
          "text": [
            "Deixe votar!\n",
            "Mande embora!\n",
            "Deixe votar!\n",
            "{'otoniel': True, 'jenny': True}\n"
          ]
        }
      ]
    },
    {
      "cell_type": "markdown",
      "source": [
        "## Exercício\n",
        "É importante que funções hash tenham uma boa distribuição. Dessa forma,\n",
        "elas\n",
        "cam com o mapeamento mais amplo possível. O pior caso é uma\n",
        "função hash que mapeia todos os itens para o mesmo espaço da tabela hash.\n",
        "\n",
        "Suponha que você tenha estas quatro funções hash que operam com strings:\n",
        "\n",
        "A. Retorne “1” para qualquer entrada.\n",
        "\n",
        "B. Use o comprimento da string como o índice.\n",
        "\n",
        "C. Use o primeiro caractere da string como índice. Assim, todas as strings\n",
        "que iniciam com a letra a são hasheadas juntas e assim por diante.\n",
        "\n",
        "D. Mapeie cada letra para um número primo: a = 2, b = 3, c = 5, d = 7, e =\n",
        "11, e assim por diante. Para uma string, a função hash é a soma de todos os caracteres-módulo 2 conforme o tamanho da hash. Se o tamanho de sua\n",
        "hash for 10, por exemplo, e a string for “bag”, o índice será (3 + 2 + 17) %\n",
        "10 = 22 % 10 = 2.\n",
        "\n",
        "Para cada um destes exemplos, qual função hash fornecerá uma boa\n",
        "distribuição? Considere que o tamanho da tabela hash tenha dez espaços.\n",
        "\n",
        "- 5.5 Uma lista telefônica em que as chaves são os nomes e os valores são os números telefônicos. Os nomes são os seguintes: Esther, Ben, Bob e Dan.\n",
        "> C e D\n",
        "- 5.6 Um mapeamento do tamanho de baterias e sua devida potência. Os tamanhos são A, AA, AAA e AAAA.\n",
        "> B e D\n",
        "- 5.7 Um mapeamento de títulos de livros e autores. Os títulos são Maus, Fun Home e Watchemn\n",
        "> B, C e D"
      ],
      "metadata": {
        "id": "U6P3E6iKg2nP"
      }
    },
    {
      "cell_type": "markdown",
      "source": [
        "## Capítulo 6 - Pesquisa em Largura\n",
        "\n",
        "`Pesquisa em Largura`: É um algoritmo para encontrar o melhor caminho com menor\n",
        "números de passos de um ponto A ao ponto B de um grafo não ponderado.\n",
        "\n",
        "## Exercício\n",
        "- 6.1 Encontre o menor caminho do início ao fim.\n",
        "> O Caminho mais curto tem 2 passos.\n",
        "- 6.2 Encontre o menor caminho de \"jato\" até \"gato\".\n",
        "> O Caminho mais curto tem 2 passos.\n",
        "\n",
        "## Implementando o grafo"
      ],
      "metadata": {
        "id": "91mJ8vakKtEF"
      }
    },
    {
      "cell_type": "code",
      "source": [
        "grafo = {}\n",
        "grafo[\"voce\"] = [\"alice\", \"bob\", \"claire\"]\n",
        "grafo[\"bob\"] = [\"anuj\", \"peggy\"]\n",
        "grafo[\"alice\"] = [\"peggy\"]\n",
        "grafo[\"claire\"] = [\"thom\", \"jonny\"]\n",
        "grafo[\"anuj\"] = []\n",
        "grafo[\"peggy\"] = []\n",
        "grafo[\"thom\"] = []\n",
        "grafo[\"jonny\"] = []\n",
        "print(grafo)"
      ],
      "metadata": {
        "colab": {
          "base_uri": "https://localhost:8080/"
        },
        "id": "zV8mVvC-PpPl",
        "outputId": "d21ec6f7-92ac-46f8-cb54-7efc26384872"
      },
      "execution_count": null,
      "outputs": [
        {
          "output_type": "stream",
          "name": "stdout",
          "text": [
            "{'voce': ['alice', 'bob', 'claire'], 'bob': ['anuj', 'peggy'], 'alice': ['peggy'], 'claire': ['thom', 'jonny'], 'anuj': [], 'peggy': [], 'thom': [], 'jonny': []}\n"
          ]
        }
      ]
    },
    {
      "cell_type": "markdown",
      "source": [
        "# Implementando o algoritmo (pesquisa de largura)\n",
        "> Execução O(V+E). onde V são os vertices e o E (edge) as arestas."
      ],
      "metadata": {
        "id": "1TXAAkxiR1xe"
      }
    },
    {
      "cell_type": "code",
      "source": [
        "def pessoa_e_vendedor(nome):\n",
        "  return nome == 'claire' or nome == \"anuj\""
      ],
      "metadata": {
        "id": "IF0INo-iT8g_"
      },
      "execution_count": null,
      "outputs": []
    },
    {
      "cell_type": "code",
      "source": [
        "from collections import deque\n",
        "\n",
        "# Filas são FIFO (Frist in, Firt out)\n",
        "def procura_vendedor_manga(nome):\n",
        "  fila_de_pesquisa = deque()\n",
        "  fila_de_pesquisa += grafo[nome]\n",
        "  pessoas_verificadas = []\n",
        "\n",
        "  while fila_de_pesquisa:\n",
        "    pessoa = fila_de_pesquisa.popleft()\n",
        "\n",
        "    if not pessoa in pessoas_verificadas:\n",
        "      if pessoa_e_vendedor(pessoa):\n",
        "        print(f\"{pessoa} é um vendedor de manga!\")\n",
        "        return True\n",
        "      else:\n",
        "        fila_de_pesquisa += grafo[pessoa]\n",
        "        pessoas_verificadas.append(pessoa)\n",
        "  return False\n",
        "\n",
        "procura_vendedor_manga(\"voce\")"
      ],
      "metadata": {
        "colab": {
          "base_uri": "https://localhost:8080/"
        },
        "id": "JybbeDanR64D",
        "outputId": "9595b2f5-c480-4dcf-9893-8e2aadc3f280"
      },
      "execution_count": null,
      "outputs": [
        {
          "output_type": "stream",
          "name": "stdout",
          "text": [
            "claire é um vendedor de manga!\n"
          ]
        },
        {
          "output_type": "execute_result",
          "data": {
            "text/plain": [
              "True"
            ]
          },
          "metadata": {},
          "execution_count": 28
        }
      ]
    },
    {
      "cell_type": "markdown",
      "source": [
        "## Exercício\n",
        "- 6.3 Quanto a estas três listas, marque se elas são válidas ou inválidas.\n",
        "  > A - É inválida, pois só é possivel tomar café da manhã depois de escovar os dentes.\\\n",
        "  B - É válida.\\\n",
        "  C - É inválida, pois não é possível tomar banho antes mesmo de acordar.\n",
        "\n",
        "- 6.4 Aqui temos um grafo maior. Faça uma lista válida para ele.\n",
        "  > 1 - Acordar\\\n",
        "  2 - Escovar os dentes\\\n",
        "  3 - Praticar Exercício\\\n",
        "  4 - Tomar Banho\\\n",
        "  5 - Trocar de Roupa\\\n",
        "  6 - Tomar café da manhã\\\n",
        "  7 - Embrulhar o Lanche\n",
        "\n",
        "- 6.5 Quais desses grafos também são árvores?\n",
        "  > A e C são árvores"
      ],
      "metadata": {
        "id": "X5A_9X35ZhL9"
      }
    },
    {
      "cell_type": "markdown",
      "source": [
        "## Capítulo 7 - Algoritmo de Dijkstra\n",
        "\n",
        "`Algoritmo de Dijkstra`: É um algoritmo para encontrar o melhor caminho de um\n",
        "ponto A ao ponto B de um grafo ponderado. Onde os seus pesos não podem ser\n",
        "negativo.\n",
        "\n",
        "## Implementação do Algoritmo de Dijkstra"
      ],
      "metadata": {
        "id": "Jw8DUlQoGvD6"
      }
    },
    {
      "cell_type": "code",
      "source": [
        "grafo = {}\n",
        "grafo[\"inicio\"] = {}\n",
        "grafo[\"inicio\"][\"a\"] = 6\n",
        "grafo[\"inicio\"][\"b\"] = 2\n",
        "\n",
        "grafo[\"a\"] = {}\n",
        "grafo[\"a\"][\"fim\"] = 1\n",
        "\n",
        "grafo[\"b\"] = {}\n",
        "grafo[\"b\"][\"a\"] = 3\n",
        "grafo[\"b\"][\"fim\"] = 5\n",
        "\n",
        "grafo[\"fim\"] = {}\n",
        "\n",
        "\n",
        "infinito = float(\"inf\")\n",
        "custos = {}\n",
        "custos[\"a\"] = 6\n",
        "custos[\"b\"] = 2\n",
        "custos[\"fim\"] = infinito\n",
        "\n",
        "pais = {}\n",
        "pais[\"a\"] = \"inicio\"\n",
        "pais[\"b\"] = \"inicio\"\n",
        "pais[\"fim\"] = None\n",
        "processados = []\n",
        "\n",
        "def ache_no_custo_mais_baixo(nodo):\n",
        "  custo_mais_baixo = float(\"inf\")\n",
        "  nodo_custo_mais_baixo = None\n",
        "  for nodo in custos:\n",
        "    custo = custos[nodo]\n",
        "    if custo < custo_mais_baixo and nodo not in processados:\n",
        "      custo_mais_baixo = custo\n",
        "      nodo_custo_mais_baixo = nodo\n",
        "  return nodo_custo_mais_baixo\n",
        "\n",
        "nodo = ache_no_custo_mais_baixo(custos)\n",
        "def dijkstra(nodo):\n",
        "  while nodo is not None:\n",
        "    custo = custos[nodo]\n",
        "    vizinhos = grafo[nodo]\n",
        "    for n in vizinhos.keys():\n",
        "      novo_custo = custo + vizinhos[n]\n",
        "      if custos[n] > novo_custo:\n",
        "        custos[n] = novo_custo\n",
        "        pais[n] = nodo\n",
        "    processados.append(nodo)\n",
        "    nodo = ache_no_custo_mais_baixo(custos)\n",
        "  return novo_custo\n",
        "\n",
        "print(dijkstra(nodo))\n"
      ],
      "metadata": {
        "colab": {
          "base_uri": "https://localhost:8080/"
        },
        "id": "W7OdUyUqQQ1I",
        "outputId": "7d5a1e4d-fd31-41a8-bf34-bc0f60f0a961"
      },
      "execution_count": null,
      "outputs": [
        {
          "output_type": "stream",
          "name": "stdout",
          "text": [
            "6\n"
          ]
        }
      ]
    },
    {
      "cell_type": "markdown",
      "source": [
        "## Exercício\n",
        "- 7.1 Em cada um desses grafos, qual o peso do caminho mínimo do início ao fim?\n",
        "  > A - 8\\\n",
        "  B - 60\\\n",
        "  C - Não é possivel de ser cálculado por ter uma aresta com peso negativo, sendo necessário o uso do algoritmo bellman-ford."
      ],
      "metadata": {
        "id": "7AmLFzheg9W3"
      }
    },
    {
      "cell_type": "markdown",
      "source": [
        "## Capítulo 8 - Algoritmos gulosos\n",
        "\n",
        "## Exercício\n",
        "- 8.1 Você trabalha para uma empresa de mobílias e tem de enviar os móveis para todo o país. É necessário encher seu caminhão com caixas, e todas as caixas são de tamanhos diferentes. Você está tentando maximizar o espaço que consegue usar cada caminhão. Como escolheria as caixas para maximixar o espaço? Proponha uma solução gulosa. Ela lhe dará a solução ideal?\n",
        "> Ir preenchendo o espaço sempre com a maior caixa que couber ainda no caminhão até não caber mais. Não alcançando a solução ideal.\n",
        "- 8.2 Você está viajando para Europa e tem sete dias para visitar o maior número de lugares. Para cada lugar você atribui um valor (o quanto deseja ver) e estima quanto tempo demora. Como maximizar o total de pontos (passar por todos os lugares que realmente quer ver) durante sua estadia? Proponha uma solução gulosa. Ela lhe dará a solulção ideal?\n",
        "> Escolhe os lugares com a maior pontuação enquanto tiver tempo, e pare de escolher quando não tiver mais tempo. Não alcançando uma solução ideal.\n",
        "\n",
        "## Implementando o Algoritmo de aproximação"
      ],
      "metadata": {
        "id": "2lCA9167bygw"
      }
    },
    {
      "cell_type": "code",
      "source": [
        "estados_abranger = set([\"mt\", \"wa\", \"or\", \"id\", \"nv\", \"ut\", \"ca\", \"az\"])\n",
        "\n",
        "estacoes = {}\n",
        "estacoes[\"kum\"] = set([\"id\", \"nv\", \"ut\"])\n",
        "estacoes[\"kdois\"] = set([\"wa\", \"id\", \"mt\"])\n",
        "estacoes[\"ktres\"] = set([\"or\", \"nv\", \"ca\"])\n",
        "estacoes[\"kquatro\"] = set([\"nv\", \"ut\"])\n",
        "estacoes[\"kcinco\"] = set([\"ca\", \"az\"])\n",
        "\n",
        "estacoes_finais = set()\n",
        "\n",
        "while estados_abranger:\n",
        "  melhor_estacao = None\n",
        "  estados_cobertos = set()\n",
        "\n",
        "  for estacao, estados in estacoes.items():\n",
        "    cobertos = estados_abranger & estados\n",
        "    if len(cobertos) > len(estados_cobertos):\n",
        "      melhor_estacao = estacao\n",
        "      estados_cobertos = cobertos\n",
        "  estados_abranger -= estados_cobertos\n",
        "  estacoes_finais.add(melhor_estacao)\n",
        "\n",
        "print(estacoes_finais)\n",
        ""
      ],
      "metadata": {
        "colab": {
          "base_uri": "https://localhost:8080/"
        },
        "id": "wZKqv41Ef-C4",
        "outputId": "4a006d91-9fc0-4d3d-cfe3-f7b491fa561f"
      },
      "execution_count": 3,
      "outputs": [
        {
          "output_type": "stream",
          "name": "stdout",
          "text": [
            "{'kum', 'kcinco', 'ktres', 'kdois'}\n"
          ]
        }
      ]
    },
    {
      "cell_type": "markdown",
      "source": [
        "## Exercício\n",
        "### Para cada um desses algoritos, diga se ele é um algoritmo guloso ou não\n",
        "- 8.3 Quicksort\n",
        "> Não, é apenas um algortimo de ordenação que usa a estatégia de divisão para conquista.\n",
        "- 8.4 Pesquisa em Largura\n",
        "> Não, pois é analisado todos os caminhos possiveis para decidir qual o menor caminho.\n",
        "- 8.5 Algoritmo de Dijkstra\n",
        "> Sim, pois ele tenta acha o caminho com a menor custo de uma origem no grafo até o destino final\n",
        "- 8.6 Um carteiro deve entregar corrrspondências para vinte casas. Ele deve encontrar a rota mais curta que passe por todas as vinte casas. Esse é um problema NP-completo?\n",
        "> Sim, pois não alcança uma solução ideal. Seguindo mesma ideia do caixeiro viajante.\n",
        "- 8.7 Encontrar o maior clique em um conjunto de pessoas (um clique, para este exemplo, é um conjunto de pessoas em que todos se conhecem). Isso é um problema NP-completo?\n",
        "> Sim, também é NP-completo.\n",
        "- 8.8 Você está fazendo um mapa dos Estados Unidos e precisa colorir estados adjacentes com cores diferentes. Para isso, deve encontrar o número mínimo de cores para que não existam dois estados adjacentes com a mesma cor. Isso é um problema NP-completo?\n",
        "> Sim, outro problema NP-completo."
      ],
      "metadata": {
        "id": "-vnS7hmtkduR"
      }
    },
    {
      "cell_type": "markdown",
      "source": [
        "## Capítulo 9 - Programação dinâmica\n",
        "\n",
        "## Exercício\n",
        "\n",
        "- 9.1 Imagine que você consegue roubar outro item: um MP3 player. Ele pesa 1 quilo e vale R\\$ 1.000. Você deveria roubá-lo?\n",
        "> Sim, com a mochila de 3 quilos eu teria R$4.500 com o (violão, iphone e Mp3)\n",
        "\n",
        "- 9.2 Suponha que você esteja indo acampar e que sua mochila tenha capacidade para 6 quilos. Sendo assim, você pode escolher entre os itens abaixo para levar. Cada item tem um valor, e quanto mais alto este valor, mais importante o item é:\n",
        "  - Água, 3Kg, 10\n",
        "  - Livro, 1Kg, 3\n",
        "  - Comida, 2Kg, 9\n",
        "  - Casaco, 2Kg, 5\n",
        "  - Câmera, 1Kg, 6\n",
        "\n",
        "  Qual é o conjunto de itens ideal que deve ser levado para o acampamento?\n",
        "> Água, comida e câmera. Totalizando 25 pontos\n",
        "\n",
        "- 9.3 Desenhe e preencha uma tabela para calcular a maior substring comum entre `blue` e `clues`.\n",
        "> Maior substring tem 3 caracteres `lue`"
      ],
      "metadata": {
        "id": "TJzfkR_lnxCa"
      }
    }
  ]
}